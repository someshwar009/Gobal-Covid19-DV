{
 "cells": [
  {
   "cell_type": "code",
   "execution_count": 8,
   "id": "17a3b466",
   "metadata": {},
   "outputs": [
    {
     "name": "stdout",
     "output_type": "stream",
     "text": [
      "  Date_reported Country_code                      Country WHO_region  \\\n",
      "0    2020-01-04           TH                     Thailand       SEAR   \n",
      "1    2020-01-04           RW                       Rwanda        AFR   \n",
      "2    2020-01-04           TJ                   Tajikistan        EUR   \n",
      "3    2020-01-04           TZ  United Republic of Tanzania        AFR   \n",
      "4    2020-01-04           AI                     Anguilla        AMR   \n",
      "\n",
      "   New_cases  Cumulative_cases  New_deaths  Cumulative_deaths   latitude  \\\n",
      "0        0.0                 0         0.0                  0  15.870032   \n",
      "1        NaN                 0         NaN                  0  -1.940278   \n",
      "2        NaN                 0         NaN                  0  38.861034   \n",
      "3        NaN                 0         NaN                  0  -6.369028   \n",
      "4        NaN                 0         NaN                  0  18.220554   \n",
      "\n",
      "    longitude  \n",
      "0  100.992541  \n",
      "1   29.873888  \n",
      "2   71.276093  \n",
      "3   34.888822  \n",
      "4  -63.068615  \n"
     ]
    }
   ],
   "source": [
    "import pandas as pd\n",
    "\n",
    "# Read the CSV files\n",
    "who_covid_data = pd.read_csv('/Users/pawanbtw/Desktop/covi-dash/WHO-COVID-19-global-daily-data.csv')\n",
    "country_coordinates = pd.read_csv('/Users/pawanbtw/Desktop/covi-dash/country_coordinates.csv')\n",
    "\n",
    "# Create a dictionary mapping country names to their coordinates\n",
    "country_coord_dict = dict(zip(country_coordinates['country'], zip(country_coordinates['latitude'], country_coordinates['longitude'])))\n",
    "\n",
    "# Function to get coordinates for a country code\n",
    "def get_coordinates(country_code):\n",
    "    coords = country_coord_dict.get(country_code, (None, None))\n",
    "    return pd.Series({'latitude': coords[0], 'longitude': coords[1]})\n",
    "\n",
    "# Add latitude and longitude columns to the WHO dataset\n",
    "who_covid_data[['latitude', 'longitude']] = who_covid_data['Country_code'].apply(get_coordinates)\n",
    "\n",
    "# Display the first few rows of the updated dataset\n",
    "print(who_covid_data.head())\n",
    "\n",
    "# Save the updated dataset to a new CSV file\n",
    "who_covid_data.to_csv('who_covid_data_with_coordinates.csv', index=False)"
   ]
  },
  {
   "cell_type": "code",
   "execution_count": null,
   "id": "e5a7f1aa",
   "metadata": {},
   "outputs": [],
   "source": []
  }
 ],
 "metadata": {
  "kernelspec": {
   "display_name": "Python 3 (ipykernel)",
   "language": "python",
   "name": "python3"
  },
  "language_info": {
   "codemirror_mode": {
    "name": "ipython",
    "version": 3
   },
   "file_extension": ".py",
   "mimetype": "text/x-python",
   "name": "python",
   "nbconvert_exporter": "python",
   "pygments_lexer": "ipython3",
   "version": "3.10.9"
  }
 },
 "nbformat": 4,
 "nbformat_minor": 5
}
